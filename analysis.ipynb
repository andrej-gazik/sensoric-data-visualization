{
 "cells": [
  {
   "cell_type": "code",
   "execution_count": 1,
   "metadata": {
    "tags": []
   },
   "outputs": [],
   "source": [
    "import mysql.connector as connection\n",
    "import pandas as pd\n",
    "import datetime as dt\n",
    "import numpy as np\n",
    "import openturns as ot\n",
    "import matplotlib.pyplot as plt"
   ]
  },
  {
   "cell_type": "code",
   "execution_count": 2,
   "metadata": {},
   "outputs": [],
   "source": [
    "mydb = connection.connect(host=\"localhost\", database = 'sensoric_data',user=\"root\", passwd=\"ajopajo\",use_pure=True)"
   ]
  },
  {
   "cell_type": "code",
   "execution_count": 3,
   "metadata": {},
   "outputs": [],
   "source": [
    "query = '''\n",
    "SELECT \n",
    "    REPLACE(name,'_DIST_BOX', '') as Name,\n",
    "    DecimalValue,\n",
    "    Time\n",
    "FROM\n",
    "    sensoric_data.thermomapping\n",
    "'''"
   ]
  },
  {
   "cell_type": "code",
   "execution_count": 4,
   "metadata": {},
   "outputs": [
    {
     "data": {
      "text/html": [
       "<div>\n",
       "<style scoped>\n",
       "    .dataframe tbody tr th:only-of-type {\n",
       "        vertical-align: middle;\n",
       "    }\n",
       "\n",
       "    .dataframe tbody tr th {\n",
       "        vertical-align: top;\n",
       "    }\n",
       "\n",
       "    .dataframe thead th {\n",
       "        text-align: right;\n",
       "    }\n",
       "</style>\n",
       "<table border=\"1\" class=\"dataframe\">\n",
       "  <thead>\n",
       "    <tr style=\"text-align: right;\">\n",
       "      <th></th>\n",
       "      <th>Name</th>\n",
       "      <th>DecimalValue</th>\n",
       "      <th>Time</th>\n",
       "    </tr>\n",
       "  </thead>\n",
       "  <tbody>\n",
       "    <tr>\n",
       "      <th>0</th>\n",
       "      <td>136</td>\n",
       "      <td>17.94</td>\n",
       "      <td>2020-12-17 13:43:03</td>\n",
       "    </tr>\n",
       "    <tr>\n",
       "      <th>1</th>\n",
       "      <td>136</td>\n",
       "      <td>18.25</td>\n",
       "      <td>2020-12-17 13:44:09</td>\n",
       "    </tr>\n",
       "    <tr>\n",
       "      <th>2</th>\n",
       "      <td>136</td>\n",
       "      <td>18.37</td>\n",
       "      <td>2020-12-17 13:45:54</td>\n",
       "    </tr>\n",
       "    <tr>\n",
       "      <th>3</th>\n",
       "      <td>136</td>\n",
       "      <td>18.77</td>\n",
       "      <td>2020-12-17 13:48:07</td>\n",
       "    </tr>\n",
       "    <tr>\n",
       "      <th>4</th>\n",
       "      <td>136</td>\n",
       "      <td>18.92</td>\n",
       "      <td>2020-12-17 13:49:13</td>\n",
       "    </tr>\n",
       "  </tbody>\n",
       "</table>\n",
       "</div>"
      ],
      "text/plain": [
       "  Name  DecimalValue                Time\n",
       "0  136         17.94 2020-12-17 13:43:03\n",
       "1  136         18.25 2020-12-17 13:44:09\n",
       "2  136         18.37 2020-12-17 13:45:54\n",
       "3  136         18.77 2020-12-17 13:48:07\n",
       "4  136         18.92 2020-12-17 13:49:13"
      ]
     },
     "execution_count": 4,
     "metadata": {},
     "output_type": "execute_result"
    }
   ],
   "source": [
    "df = pd.read_sql(query,mydb)\n",
    "df.head()"
   ]
  },
  {
   "cell_type": "code",
   "execution_count": 9,
   "metadata": {},
   "outputs": [],
   "source": [
    "df = pd.read_csv('all_data.csv')"
   ]
  },
  {
   "cell_type": "code",
   "execution_count": 10,
   "metadata": {
    "tags": []
   },
   "outputs": [],
   "source": [
    "# Parse time from column\n",
    "df['Time'] = pd.to_datetime(df['Time'])\n",
    "# Save exact time (avoid resampling data loss)\n",
    "df['Time_exact'] = df['Time']\n",
    "# Set date as index\n",
    "df.set_index('Time', inplace=True)"
   ]
  },
  {
   "cell_type": "code",
   "execution_count": 11,
   "metadata": {},
   "outputs": [],
   "source": [
    "# Resample to hour intervals\n",
    "resampled = df.groupby('Name', as_index=False).resample('H').first().reset_index()\n",
    "resampled.drop('Unnamed: 0', axis='columns', inplace=True)"
   ]
  },
  {
   "cell_type": "code",
   "execution_count": 13,
   "metadata": {
    "tags": []
   },
   "outputs": [
    {
     "data": {
      "text/plain": [
       "Name\n",
       "136    AxesSubplot(0.125,0.2;0.775x0.68)\n",
       "137    AxesSubplot(0.125,0.2;0.775x0.68)\n",
       "138    AxesSubplot(0.125,0.2;0.775x0.68)\n",
       "141    AxesSubplot(0.125,0.2;0.775x0.68)\n",
       "142    AxesSubplot(0.125,0.2;0.775x0.68)\n",
       "144    AxesSubplot(0.125,0.2;0.775x0.68)\n",
       "145    AxesSubplot(0.125,0.2;0.775x0.68)\n",
       "146    AxesSubplot(0.125,0.2;0.775x0.68)\n",
       "148    AxesSubplot(0.125,0.2;0.775x0.68)\n",
       "149    AxesSubplot(0.125,0.2;0.775x0.68)\n",
       "150    AxesSubplot(0.125,0.2;0.775x0.68)\n",
       "Name: DecimalValue, dtype: object"
      ]
     },
     "execution_count": 13,
     "metadata": {},
     "output_type": "execute_result"
    },
    {
     "data": {
      "image/png": "[encoded data removed]",
      "text/plain": [
       "<Figure size 432x288 with 1 Axes>"
      ]
     },
     "metadata": {
      "needs_background": "light"
     },
     "output_type": "display_data"
    }
   ],
   "source": [
    "# Plot all intervals\n",
    "df.groupby('Name')['DecimalValue'].plot(legend=True)"
   ]
  },
  {
   "cell_type": "code",
   "execution_count": 16,
   "metadata": {},
   "outputs": [
    {
     "name": "stdout",
     "output_type": "stream",
     "text": [
      "2020-12-17 13:43:03\n",
      "2021-09-09 23:59:07\n",
      "266 days 10:16:04\n"
     ]
    }
   ],
   "source": [
    "# Time interval of dataset\n",
    "print (df.index.min())\n",
    "print (df.index.max())\n",
    "print (df.index.max() - df.index.min())"
   ]
  },
  {
   "cell_type": "code",
   "execution_count": 102,
   "metadata": {
    "tags": []
   },
   "outputs": [],
   "source": [
    "# Select sample \n",
    "start_date = '2021-09-07'\n",
    "end_date = '2021-09-08'\n",
    "mask = (resampled['Time_exact'] > start_date) & (resampled['Time_exact'] <= end_date)\n",
    "a = resampled.loc[mask]"
   ]
  },
  {
   "cell_type": "code",
   "execution_count": 103,
   "metadata": {},
   "outputs": [
    {
     "data": {
      "text/html": [
       "<div>\n",
       "<style scoped>\n",
       "    .dataframe tbody tr th:only-of-type {\n",
       "        vertical-align: middle;\n",
       "    }\n",
       "\n",
       "    .dataframe tbody tr th {\n",
       "        vertical-align: top;\n",
       "    }\n",
       "\n",
       "    .dataframe thead th {\n",
       "        text-align: right;\n",
       "    }\n",
       "</style>\n",
       "<table border=\"1\" class=\"dataframe\">\n",
       "  <thead>\n",
       "    <tr style=\"text-align: right;\">\n",
       "      <th></th>\n",
       "      <th>level_0</th>\n",
       "      <th>Time</th>\n",
       "      <th>DecimalValue</th>\n",
       "      <th>Time_exact</th>\n",
       "    </tr>\n",
       "    <tr>\n",
       "      <th>Name</th>\n",
       "      <th></th>\n",
       "      <th></th>\n",
       "      <th></th>\n",
       "      <th></th>\n",
       "    </tr>\n",
       "  </thead>\n",
       "  <tbody>\n",
       "    <tr>\n",
       "      <th>136.0</th>\n",
       "      <td>0</td>\n",
       "      <td>2021-09-07 05:00:00</td>\n",
       "      <td>5.07</td>\n",
       "      <td>2021-09-07 05:00:50</td>\n",
       "    </tr>\n",
       "    <tr>\n",
       "      <th>137.0</th>\n",
       "      <td>1</td>\n",
       "      <td>2021-09-07 05:00:00</td>\n",
       "      <td>5.35</td>\n",
       "      <td>2021-09-07 05:00:58</td>\n",
       "    </tr>\n",
       "    <tr>\n",
       "      <th>138.0</th>\n",
       "      <td>2</td>\n",
       "      <td>2021-09-07 05:00:00</td>\n",
       "      <td>5.66</td>\n",
       "      <td>2021-09-07 05:00:51</td>\n",
       "    </tr>\n",
       "    <tr>\n",
       "      <th>141.0</th>\n",
       "      <td>3</td>\n",
       "      <td>2021-09-07 05:00:00</td>\n",
       "      <td>5.00</td>\n",
       "      <td>2021-09-07 05:00:55</td>\n",
       "    </tr>\n",
       "    <tr>\n",
       "      <th>142.0</th>\n",
       "      <td>4</td>\n",
       "      <td>2021-09-07 05:00:00</td>\n",
       "      <td>5.32</td>\n",
       "      <td>2021-09-07 05:00:53</td>\n",
       "    </tr>\n",
       "    <tr>\n",
       "      <th>144.0</th>\n",
       "      <td>5</td>\n",
       "      <td>2021-09-07 05:00:00</td>\n",
       "      <td>5.08</td>\n",
       "      <td>2021-09-07 05:00:57</td>\n",
       "    </tr>\n",
       "    <tr>\n",
       "      <th>145.0</th>\n",
       "      <td>6</td>\n",
       "      <td>2021-09-07 05:00:00</td>\n",
       "      <td>5.16</td>\n",
       "      <td>2021-09-07 05:00:58</td>\n",
       "    </tr>\n",
       "    <tr>\n",
       "      <th>146.0</th>\n",
       "      <td>7</td>\n",
       "      <td>2021-09-07 05:00:00</td>\n",
       "      <td>5.48</td>\n",
       "      <td>2021-09-07 05:00:57</td>\n",
       "    </tr>\n",
       "    <tr>\n",
       "      <th>148.0</th>\n",
       "      <td>8</td>\n",
       "      <td>2021-09-07 05:00:00</td>\n",
       "      <td>5.39</td>\n",
       "      <td>2021-09-07 05:00:56</td>\n",
       "    </tr>\n",
       "    <tr>\n",
       "      <th>149.0</th>\n",
       "      <td>9</td>\n",
       "      <td>2021-09-07 05:00:00</td>\n",
       "      <td>5.09</td>\n",
       "      <td>2021-09-07 05:00:57</td>\n",
       "    </tr>\n",
       "    <tr>\n",
       "      <th>150.0</th>\n",
       "      <td>10</td>\n",
       "      <td>2021-09-07 05:00:00</td>\n",
       "      <td>5.59</td>\n",
       "      <td>2021-09-07 05:00:57</td>\n",
       "    </tr>\n",
       "  </tbody>\n",
       "</table>\n",
       "</div>"
      ],
      "text/plain": [
       "       level_0                Time  DecimalValue          Time_exact\n",
       "Name                                                                \n",
       "136.0        0 2021-09-07 05:00:00          5.07 2021-09-07 05:00:50\n",
       "137.0        1 2021-09-07 05:00:00          5.35 2021-09-07 05:00:58\n",
       "138.0        2 2021-09-07 05:00:00          5.66 2021-09-07 05:00:51\n",
       "141.0        3 2021-09-07 05:00:00          5.00 2021-09-07 05:00:55\n",
       "142.0        4 2021-09-07 05:00:00          5.32 2021-09-07 05:00:53\n",
       "144.0        5 2021-09-07 05:00:00          5.08 2021-09-07 05:00:57\n",
       "145.0        6 2021-09-07 05:00:00          5.16 2021-09-07 05:00:58\n",
       "146.0        7 2021-09-07 05:00:00          5.48 2021-09-07 05:00:57\n",
       "148.0        8 2021-09-07 05:00:00          5.39 2021-09-07 05:00:56\n",
       "149.0        9 2021-09-07 05:00:00          5.09 2021-09-07 05:00:57\n",
       "150.0       10 2021-09-07 05:00:00          5.59 2021-09-07 05:00:57"
      ]
     },
     "execution_count": 103,
     "metadata": {},
     "output_type": "execute_result"
    }
   ],
   "source": [
    "\n",
    "a.groupby('Name').agg(lambda x: x.iloc[5])"
   ]
  },
  {
   "cell_type": "code",
   "execution_count": 115,
   "metadata": {},
   "outputs": [],
   "source": [
    "temp = a.groupby('Name').agg(lambda x: x.iloc[3])['DecimalValue'].to_numpy()\n",
    "max = np.amax(temp)"
   ]
  },
  {
   "cell_type": "code",
   "execution_count": 116,
   "metadata": {},
   "outputs": [
    {
     "name": "stdout",
     "output_type": "stream",
     "text": [
      "[[0.5  1.  ]\n",
      " [0.25 1.  ]\n",
      " [0.5  0.  ]\n",
      " [0.5  0.  ]\n",
      " [0.   1.  ]\n",
      " [0.5  1.  ]\n",
      " [0.8  0.  ]\n",
      " [0.   0.5 ]\n",
      " [0.2  0.  ]\n",
      " [0.8  1.  ]\n",
      " [0.2  0.  ]]\n"
     ]
    }
   ],
   "source": [
    "xy = np.array([[0.5,1],\n",
    "              [0.25, 1], # 136\n",
    "              [0.5, 0],  # 138\n",
    "              \n",
    "               [0.5, 0],  # 141\n",
    "              [0, 1],    # 142\n",
    "              [0.5, 1],  # 144\n",
    "              [0.8, 0],  # 145\n",
    "              [0,0.5],   # 146\n",
    "              [0.2, 0],  # 148\n",
    "              [0.8,1],   # 149\n",
    "              [0.2,0]])  # 150\n",
    "#xy[:,0] = np.multiply(xy[:,0], 3.6)\n",
    "#xy[:,1] = np.multiply(xy[:,1], 1.8)\n",
    "print(xy)"
   ]
  },
  {
   "cell_type": "code",
   "execution_count": 117,
   "metadata": {},
   "outputs": [
    {
     "name": "stdout",
     "output_type": "stream",
     "text": [
      "[4.81 5.12 5.54 4.77 5.01 4.92 4.92 5.26 5.34 4.9  5.48]\n"
     ]
    }
   ],
   "source": [
    "arr = []\n",
    "for x in temp:\n",
    "    arr.append([x])\n",
    "arr = np.array(arr)\n",
    "print(temp)"
   ]
  },
  {
   "cell_type": "code",
   "execution_count": 118,
   "metadata": {},
   "outputs": [
    {
     "data": {
      "image/png": "[encoded data removed]",
      "text/plain": [
       "<Figure size 432x288 with 2 Axes>"
      ]
     },
     "metadata": {
      "needs_background": "light"
     },
     "output_type": "display_data"
    }
   ],
   "source": [
    "x = xy[:,0]\n",
    "y = xy[:,1]\n",
    "fig = plt.figure()\n",
    "plt.scatter(x, y, c=temp, cmap='plasma')\n",
    "plt.colorbar()\n",
    "# plt.xlim(max(x),min(x))\n",
    "# plt.ylim(max(y),min(y))\n",
    "plt.show()"
   ]
  },
  {
   "cell_type": "code",
   "execution_count": 119,
   "metadata": {},
   "outputs": [],
   "source": [
    "# Convert to ot samples\n",
    "input_train = ot.Sample(xy)\n",
    "output_train = ot.Sample(arr)"
   ]
  },
  {
   "cell_type": "code",
   "execution_count": 120,
   "metadata": {},
   "outputs": [],
   "source": [
    "inputDimension = 2\n",
    "basis = ot.ConstantBasisFactory(inputDimension).build()\n",
    "covariance_kernel = ot.SquaredExponential([1.]*inputDimension, [1.0])\n",
    "algo = ot.KrigingAlgorithm(input_train, output_train,\n",
    "                           covariance_kernel, basis)"
   ]
  },
  {
   "cell_type": "code",
   "execution_count": 121,
   "metadata": {},
   "outputs": [],
   "source": [
    "algo.run()\n",
    "result = algo.getResult()\n",
    "krigingMetamodel = result.getMetaModel()"
   ]
  },
  {
   "cell_type": "code",
   "execution_count": 122,
   "metadata": {},
   "outputs": [],
   "source": [
    "myInterval = ot.Interval([0., 0.], [1., 1.])\n",
    "# Define the number of interval in each direction of the box\n",
    "nx = 200\n",
    "ny = 100\n",
    "myIndices = [nx-1, ny-1]\n",
    "myMesher = ot.IntervalMesher(myIndices)\n",
    "myMeshBox = myMesher.build(myInterval)"
   ]
  },
  {
   "cell_type": "code",
   "execution_count": 123,
   "metadata": {},
   "outputs": [],
   "source": [
    "vertices = myMeshBox.getVertices()\n",
    "predictions = krigingMetamodel(vertices)"
   ]
  },
  {
   "cell_type": "code",
   "execution_count": 124,
   "metadata": {},
   "outputs": [],
   "source": [
    "X = np.array(vertices[:,0]).reshape((ny,nx))\n",
    "Y = np.array(vertices[:,1]).reshape((ny,nx))\n",
    "predictions_array = np.array(predictions).reshape((ny,nx))"
   ]
  },
  {
   "cell_type": "code",
   "execution_count": 125,
   "metadata": {},
   "outputs": [
    {
     "data": {
      "image/png": "[encoded data removed]",
      "text/plain": [
       "<Figure size 432x288 with 2 Axes>"
      ]
     },
     "metadata": {
      "needs_background": "light"
     },
     "output_type": "display_data"
    }
   ],
   "source": [
    "fig = plt.figure()\n",
    "plt.pcolor(X, Y, predictions_array, shading='auto')\n",
    "plt.colorbar()\n",
    "plt.show()"
   ]
  },
  {
   "cell_type": "code",
   "execution_count": 126,
   "metadata": {
    "tags": []
   },
   "outputs": [
    {
     "name": "stdout",
     "output_type": "stream",
     "text": [
      "Adjusting data for anisotropy...\n",
      "Initializing variogram model...\n",
      "Using 'gaussian' Variogram Model\n",
      "Partial Sill: 6.784612474569862e-09\n",
      "Full Sill: 0.07296340498464608\n",
      "Range: 1.1650574670887193\n",
      "Nugget: 0.07296339820003361 \n",
      "\n",
      "Calculating statistics on variogram model fit...\n",
      "Q1 = 0.5470199045644196\n",
      "Q2 = 1.0052375358166203\n",
      "cR = 0.09529517723143546 \n",
      "\n",
      "Initializing drift terms...\n",
      "Implementing regional linear drift.\n",
      "Executing Universal Kriging...\n",
      "\n"
     ]
    },
    {
     "data": {
      "image/png": "[encoded data removed]",
      "text/plain": [
       "<Figure size 432x288 with 2 Axes>"
      ]
     },
     "metadata": {
      "needs_background": "light"
     },
     "output_type": "display_data"
    }
   ],
   "source": [
    "from pykrige.uk import UniversalKriging\n",
    "import numpy as np\n",
    "\n",
    "gridx = np.arange(0.0, 1, 0.016)\n",
    "gridy = np.arange(0.0, 1, 0.028)\n",
    "\n",
    "\n",
    "UK = UniversalKriging(xy[:, 0], xy[:, 1], temp, variogram_model='gaussian',\n",
    "                      drift_terms=['regional_linear'], verbose=True)\n",
    "\n",
    "\n",
    "z, ss = UK.execute('grid', gridx, gridy)\n",
    "\n",
    "\n",
    "plt.imshow(z, cmap='hot')\n",
    "plt.colorbar()\n",
    "plt.show()"
   ]
  },
  {
   "cell_type": "code",
   "execution_count": 140,
   "metadata": {},
   "outputs": [],
   "source": [
    "def distance_matrix(x0, y0, x1, y1):\n",
    "    obs = np.vstack((x0, y0)).T\n",
    "    interp = np.vstack((x1, y1)).T\n",
    "\n",
    "    d0 = np.subtract.outer(obs[:,0], interp[:,0])\n",
    "    d1 = np.subtract.outer(obs[:,1], interp[:,1])\n",
    "\n",
    "    return np.hypot(d0, d1)"
   ]
  },
  {
   "cell_type": "code",
   "execution_count": 141,
   "metadata": {},
   "outputs": [],
   "source": [
    "def simple_idw(x, y, z, xi, yi):\n",
    "    dist = distance_matrix(x,y, xi,yi)\n",
    "\n",
    "    # In IDW, weights are 1 / distance\n",
    "    weights = 1.0 / dist\n",
    "\n",
    "    # Make weights sum to one\n",
    "    weights /= weights.sum(axis=0)\n",
    "\n",
    "    # Multiply the weights for each interpolated point by all observed Z-values\n",
    "    zi = np.dot(weights.T, z)\n",
    "    return zi\n"
   ]
  },
  {
   "cell_type": "code",
   "execution_count": 161,
   "metadata": {},
   "outputs": [
    {
     "name": "stderr",
     "output_type": "stream",
     "text": [
      "C:\\Users\\AJO\\AppData\\Local\\Temp/ipykernel_26992/1403982076.py:5: RuntimeWarning: divide by zero encountered in true_divide\n",
      "  weights = 1.0 / dist\n",
      "C:\\Users\\AJO\\AppData\\Local\\Temp/ipykernel_26992/1403982076.py:8: RuntimeWarning: invalid value encountered in true_divide\n",
      "  weights /= weights.sum(axis=0)\n"
     ]
    }
   ],
   "source": [
    "    \n",
    "    nx, ny = 50, 25 \n",
    "    x, y, z = (xy[:,0], xy[:,0], temp)\n",
    "    xi = np.linspace(x.min(), x.max(), nx)\n",
    "    yi = np.linspace(y.min(), y.max(), ny)\n",
    "    xi, yi = np.meshgrid(xi, yi)\n",
    "    xi, yi = xi.flatten(), yi.flatten()\n",
    "\n",
    "    # Calculate IDW\n",
    "    grid1 = simple_idw(x,y,z,xi,yi)"
   ]
  },
  {
   "cell_type": "code",
   "execution_count": 162,
   "metadata": {},
   "outputs": [],
   "source": [
    "a = np.reshape(grid1, (ny, nx))"
   ]
  },
  {
   "cell_type": "code",
   "execution_count": 163,
   "metadata": {},
   "outputs": [
    {
     "name": "stdout",
     "output_type": "stream",
     "text": [
      "[[       nan 5.1411362  5.14665132 ... 5.10273646 5.10159349 5.10051059]\n",
      " [5.14686974 5.14894556 5.15272972 ... 5.10060212 5.09946575 5.09839321]\n",
      " [5.15663297 5.15898714 5.16229469 ... 5.09817901 5.09706571 5.09601889]\n",
      " ...\n",
      " [5.10532524 5.10431999 5.10323912 ... 4.9810547  4.97689971 4.97489192]\n",
      " [5.10278544 5.10177514 5.10069732 ... 4.96085283 4.95226911 4.94830348]\n",
      " [5.10051059 5.09950493 5.09843896 ... 4.94765873 4.93062428        nan]]\n"
     ]
    }
   ],
   "source": [
    "print(a)"
   ]
  },
  {
   "cell_type": "code",
   "execution_count": 164,
   "metadata": {},
   "outputs": [
    {
     "data": {
      "image/png": "[encoded data removed]",
      "text/plain": [
       "<Figure size 432x288 with 2 Axes>"
      ]
     },
     "metadata": {
      "needs_background": "light"
     },
     "output_type": "display_data"
    }
   ],
   "source": [
    "plt.imshow(a, cmap='hot')\n",
    "plt.colorbar()\n",
    "plt.show()"
   ]
  },
  {
   "cell_type": "code",
   "execution_count": 180,
   "metadata": {},
   "outputs": [],
   "source": [
    "\n",
    "grid_x, grid_y = np.mgrid[0:1:100j, 0:1:200j]\n",
    "from scipy.interpolate import griddata\n",
    "\n",
    "grid_z0 = griddata(xy, temp, (grid_x, grid_y), method='nearest')\n",
    "\n",
    "grid_z1 = griddata(xy, temp, (grid_x, grid_y), method='linear')\n",
    "\n",
    "grid_z2 = griddata(xy, temp, (grid_x, grid_y), method='cubic')"
   ]
  },
  {
   "cell_type": "code",
   "execution_count": 181,
   "metadata": {},
   "outputs": [
    {
     "data": {
      "image/png": "[encoded data removed]",
      "text/plain": [
       "<Figure size 432x288 with 2 Axes>"
      ]
     },
     "metadata": {
      "needs_background": "light"
     },
     "output_type": "display_data"
    },
    {
     "data": {
      "image/png": "[encoded data removed]",
      "text/plain": [
       "<Figure size 432x288 with 2 Axes>"
      ]
     },
     "metadata": {
      "needs_background": "light"
     },
     "output_type": "display_data"
    },
    {
     "data": {
      "image/png": "[encoded data removed]",
      "text/plain": [
       "<Figure size 432x288 with 2 Axes>"
      ]
     },
     "metadata": {
      "needs_background": "light"
     },
     "output_type": "display_data"
    }
   ],
   "source": [
    "plt.imshow(grid_z0, cmap='hot')\n",
    "plt.colorbar()\n",
    "plt.show()\n",
    "\n",
    "plt.imshow(grid_z1, cmap='hot')\n",
    "plt.colorbar()\n",
    "plt.show()\n",
    "\n",
    "plt.imshow(grid_z2, cmap='hot')\n",
    "plt.colorbar()\n",
    "plt.show()"
   ]
  }
 ],
 "metadata": {
  "kernelspec": {
   "display_name": "venv",
   "language": "python",
   "name": "venv"
  },
  "language_info": {
   "codemirror_mode": {
    "name": "ipython",
    "version": 3
   },
   "file_extension": ".py",
   "mimetype": "text/x-python",
   "name": "python",
   "nbconvert_exporter": "python",
   "pygments_lexer": "ipython3",
   "version": "3.8.10"
  }
 },
 "nbformat": 4,
 "nbformat_minor": 4
}
